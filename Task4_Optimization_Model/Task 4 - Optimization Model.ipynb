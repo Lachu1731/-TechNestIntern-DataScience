{
 "cells": [
  {
   "cell_type": "code",
   "execution_count": 2,
   "id": "9a1a942c-c00e-4925-86ec-ae96b6dadf13",
   "metadata": {},
   "outputs": [
    {
     "name": "stdout",
     "output_type": "stream",
     "text": [
      "Produce 20 units of Product A\n",
      "Produce 15 units of Product B\n",
      "Maximum Profit = ₹850.0\n"
     ]
    }
   ],
   "source": [
    "from pulp import LpMaximize, LpProblem, LpVariable, lpSum, value\n",
    "\n",
    "# Step 1: Define the problem\n",
    "model = LpProblem(name=\"profit-maximization\", sense=LpMaximize)\n",
    "\n",
    "# Step 2: Define decision variables\n",
    "x = LpVariable(name=\"Product_A\", lowBound=0, cat='Continuous')\n",
    "y = LpVariable(name=\"Product_B\", lowBound=0, cat='Continuous')\n",
    "\n",
    "# Step 3: Define objective function (maximize profit)\n",
    "model += 20 * x + 30 * y, \"Total Profit\"\n",
    "\n",
    "# Step 4: Add constraints\n",
    "model += 2 * x + 4 * y <= 100, \"Labor Constraint\"\n",
    "model += 3 * x + 2 * y <= 90, \"Material Constraint\"\n",
    "\n",
    "# Step 5: Solve the problem\n",
    "model.solve()\n",
    "\n",
    "# Step 6: Output the results\n",
    "print(f\"Produce {x.varValue:.0f} units of Product A\")\n",
    "print(f\"Produce {y.varValue:.0f} units of Product B\")\n",
    "print(f\"Maximum Profit = ₹{value(model.objective)}\")\n"
   ]
  },
  {
   "cell_type": "markdown",
   "id": "2b24c8d3-d6ad-4956-8a07-39ab9c7dd7cf",
   "metadata": {},
   "source": [
    "### Problem Statement:\n",
    "Maximize profit by determining how many units of Product A and B to produce under labor and material constraints.\n",
    "\n",
    "### Approach:\n",
    "Used Linear Programming via PuLP to model constraints and objective. Solved using `model.solve()`.\n",
    "\n",
    "### Insights:\n",
    "- Best to produce 20 units of A and 15 units of B\n",
    "- Utilizes all resources efficiently\n",
    "- Achieves a maximum profit of ₹850\n"
   ]
  },
  {
   "cell_type": "code",
   "execution_count": null,
   "id": "908df176-3251-43c8-9e38-8eaf270916a5",
   "metadata": {},
   "outputs": [],
   "source": []
  }
 ],
 "metadata": {
  "kernelspec": {
   "display_name": "Python 3 (ipykernel)",
   "language": "python",
   "name": "python3"
  },
  "language_info": {
   "codemirror_mode": {
    "name": "ipython",
    "version": 3
   },
   "file_extension": ".py",
   "mimetype": "text/x-python",
   "name": "python",
   "nbconvert_exporter": "python",
   "pygments_lexer": "ipython3",
   "version": "3.12.7"
  }
 },
 "nbformat": 4,
 "nbformat_minor": 5
}
